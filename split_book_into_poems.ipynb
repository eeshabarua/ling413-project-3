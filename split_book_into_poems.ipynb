{
 "cells": [
  {
   "cell_type": "code",
   "execution_count": 6,
   "id": "d4baf483",
   "metadata": {},
   "outputs": [],
   "source": [
    "import re\n",
    "import pandas as pd"
   ]
  },
  {
   "cell_type": "code",
   "execution_count": 7,
   "id": "2211407e",
   "metadata": {},
   "outputs": [],
   "source": [
    "genre_name = \"'Poetry'\"\n",
    "\n",
    "filepath = f\"raw_text/{genre_name}/\"\n",
    "filename = \"10133.txt\"\n",
    "\n",
    "out_filepath = f'poems/{genre_name}/'"
   ]
  },
  {
   "cell_type": "code",
   "execution_count": 8,
   "id": "74f820d8",
   "metadata": {},
   "outputs": [],
   "source": [
    "# Function to extract stanzas from a text file\n",
    "def extract_stanzas(file_path):\n",
    "    with open(file_path, 'r', encoding='utf-8') as file:\n",
    "        poem_title = None\n",
    "        stanzas = []\n",
    "        current_stanza = \"\"\n",
    "\n",
    "        for line in file:\n",
    "            line = line.strip()\n",
    "\n",
    "            # Check for poem title\n",
    "            if line.isupper():\n",
    "                poem_title = line\n",
    "\n",
    "            # Check for stanza separator (empty line)\n",
    "            elif not line:\n",
    "                if current_stanza:\n",
    "                    stanzas.append((poem_title, current_stanza))\n",
    "                    current_stanza = \"\"\n",
    "            \n",
    "            # Otherwise, add line to current stanza\n",
    "            else:\n",
    "                current_stanza += line + \" \"\n",
    "\n",
    "        # Add the last stanza if any\n",
    "        if current_stanza:\n",
    "            stanzas.append((poem_title, current_stanza))\n",
    "\n",
    "    return stanzas"
   ]
  },
  {
   "cell_type": "code",
   "execution_count": 9,
   "id": "e49aaad3",
   "metadata": {},
   "outputs": [
    {
     "name": "stdout",
     "output_type": "stream",
     "text": [
      "                                            Poem Title  \\\n",
      "0                                                 None   \n",
      "1                                                 None   \n",
      "2                                                 None   \n",
      "3                                                 None   \n",
      "4                                                 None   \n",
      "..                                                 ...   \n",
      "489  LIMITED TO WARRANTIES OF MERCHANTABILITY OR FI...   \n",
      "490  LIMITED TO WARRANTIES OF MERCHANTABILITY OR FI...   \n",
      "491  LIMITED TO WARRANTIES OF MERCHANTABILITY OR FI...   \n",
      "492  LIMITED TO WARRANTIES OF MERCHANTABILITY OR FI...   \n",
      "493  LIMITED TO WARRANTIES OF MERCHANTABILITY OR FI...   \n",
      "\n",
      "                                                Stanza  \n",
      "0    ﻿The Project Gutenberg eBook of The Vigil of V...  \n",
      "1    This ebook is for the use of anyone anywhere i...  \n",
      "2    Title: The Vigil of Venus and Other Poems by \"Q\"   \n",
      "3                        Author: Arthur Quiller-Couch   \n",
      "4    Release date: November 1, 2003 [eBook #10133] ...  \n",
      "..                                                 ...  \n",
      "489  Section 5. General Information About Project G...  \n",
      "490  Professor Michael S. Hart was the originator o...  \n",
      "491  Project Gutenberg™ eBooks are often created fr...  \n",
      "492  Most people start at our website which has the...  \n",
      "493  This website includes information about Projec...  \n",
      "\n",
      "[494 rows x 2 columns]\n"
     ]
    }
   ],
   "source": [
    "# Example usage:\n",
    "stanzas = extract_stanzas(filepath+filename)\n",
    "\n",
    "# Create DataFrame\n",
    "df = pd.DataFrame(stanzas, columns=[\"Poem Title\", \"Stanza\"])\n",
    "print(df)"
   ]
  },
  {
   "cell_type": "code",
   "execution_count": 11,
   "id": "41e9280c",
   "metadata": {},
   "outputs": [],
   "source": [
    "df.to_csv(f\"poems/'Poetry'/{filename}_split_by_stanza.csv\")"
   ]
  },
  {
   "cell_type": "code",
   "execution_count": null,
   "id": "f7795224",
   "metadata": {},
   "outputs": [],
   "source": []
  }
 ],
 "metadata": {
  "kernelspec": {
   "display_name": "Python 3 (ipykernel)",
   "language": "python",
   "name": "python3"
  },
  "language_info": {
   "codemirror_mode": {
    "name": "ipython",
    "version": 3
   },
   "file_extension": ".py",
   "mimetype": "text/x-python",
   "name": "python",
   "nbconvert_exporter": "python",
   "pygments_lexer": "ipython3",
   "version": "3.11.5"
  }
 },
 "nbformat": 4,
 "nbformat_minor": 5
}
