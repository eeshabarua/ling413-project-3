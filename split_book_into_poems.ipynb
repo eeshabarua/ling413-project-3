{
 "cells": [
  {
   "cell_type": "code",
   "execution_count": 30,
   "id": "d4baf483",
   "metadata": {},
   "outputs": [],
   "source": [
    "import re\n",
    "import pandas as pd\n",
    "import os"
   ]
  },
  {
   "cell_type": "code",
   "execution_count": 31,
   "id": "2211407e",
   "metadata": {},
   "outputs": [],
   "source": [
    "genre_name = \"'Poetry'\"\n",
    "\n",
    "in_filepath = f\"raw_text/{genre_name}/\"\n",
    "out_filepath = f'poems/{genre_name}/'"
   ]
  },
  {
   "cell_type": "code",
   "execution_count": 32,
   "id": "9d648a64",
   "metadata": {},
   "outputs": [],
   "source": [
    "def list_text_files(directory):\n",
    "    text_files = []\n",
    "    for file in os.listdir(directory):\n",
    "        if file.endswith(\".txt\"):\n",
    "            text_files.append(file)\n",
    "    return text_files"
   ]
  },
  {
   "cell_type": "code",
   "execution_count": 33,
   "id": "f95dd334",
   "metadata": {},
   "outputs": [
    {
     "name": "stdout",
     "output_type": "stream",
     "text": [
      "['19005.txt', '12622.txt', '19978.txt', '22736.txt', '20135.txt', '16108.txt', '12391.txt', '21029.txt', '5625.txt', '42439.txt', '9989.txt', '22326.txt', '29515.txt', '34752.txt', '19819.txt', '32493.txt', '19170.txt', '14871.txt', '45586.txt', '21766.txt', '29879.txt', '7421.txt', '32532.txt', '28218.txt', '9801.txt', '27473.txt', '30669.txt', '72472.txt', '37648.txt', '2161.txt', '46112.txt', '27275.txt', '21610.txt', '20240.txt', '8672.txt', '32491.txt', '18287.txt', '29700.txt', '36620.txt', '36153.txt', '328.txt', '5425.txt', '9579.txt', '17604.txt', '45383.txt', '40562.txt', '15211.txt', '1333.txt', '37649.txt', '14906.txt', '22734.txt', '29649.txt', '30481.txt', '17764.txt', '6074.txt', '20127.txt', '29103.txt', '30687.txt', '1525.txt', '33417.txt', '28816.txt', '47962.txt', '12977.txt', '27700.txt', '34741.txt', '6667.txt', '14320.txt', '22692.txt', '21628.txt', '28817.txt', '16735.txt', '47383.txt', '715.txt', '38594.txt', '51536.txt', '71433.txt', '21210.txt', '6061.txt', '27139.txt', '35515.txt', '27677.txt', '13075.txt', '39844.txt', '22531.txt', '13908.txt', '9998.txt', '18726.txt', '16535.txt', '22848.txt', '18524.txt', '11266.txt', '18242.txt', '313.txt', '66039.txt', '1137.txt', '70316.txt', '22322.txt', '1321.txt', '45346.txt', '54505.txt', '27299.txt', '21777.txt', '27474.txt', '49385.txt', '17574.txt', '33171.txt', '22726.txt', '15820.txt', '22732.txt', '1057.txt', '14531.txt', '36913.txt', '42076.txt', '17936.txt', '1568.txt', '30184.txt', '32778.txt', '995.txt', '22423.txt', '29210.txt', '413.txt', '30225.txt', '11599.txt', '29761.txt', '31890.txt', '11215.txt', '42301.txt', '2666.txt', '20427.txt', '9653.txt', '15311.txt', '22032.txt', '18351.txt', '1031.txt', '13560.txt', '30391.txt', '11439.txt', '39821.txt', '9889.txt', '59125.txt', '772.txt', '31272.txt', '11983.txt', '15529.txt', '835.txt', '52448.txt', '8639.txt', '14353.txt', '30568.txt', '37213.txt', '438.txt', '22637.txt', '38135.txt', '64689.txt', '11564.txt', '22421.txt', '2665.txt', '22569.txt', '10518.txt', '33855.txt', '12643.txt', '17065.txt', '18424.txt', '30357.txt', '6956.txt', '21662.txt', '49723.txt', '5330.txt', '7527.txt', '36135.txt', '23538.txt', '47055.txt', '16568.txt', '13809.txt', '18009.txt', '17448.txt', '19288.txt', '16839.txt', '7122.txt', '16144.txt', '12322.txt', '15101.txt', '27199.txt', '20609.txt', '65194.txt', '27370.txt', '28043.txt', '9870.txt', '10457.txt', '16973.txt', '10133.txt', '22803.txt', '1141.txt', '33729.txt', '12095.txt', '41397.txt', '37214.txt', '51807.txt', '27577.txt', '7928.txt', '30023.txt', '11006.txt', '15472.txt', '8212.txt', '28903.txt', '19937.txt', '24308.txt', '20813.txt', '48563.txt', '15664.txt', '20185.txt', '9465.txt', '17081.txt', '6795.txt', '70998.txt', '41760.txt', '72396.txt', '67016.txt', '11194.txt', '7845.txt', '6597.txt', '18007.txt', '4545.txt', '19443.txt', '5868.txt', '13350.txt', '38857.txt', '37557.txt', '1830.txt', '20764.txt', '38856.txt', '18238.txt', '12701.txt', '34936.txt', '16229.txt', '18210.txt', '39037.txt', '22403.txt', '27221.txt', '10328.txt', '13621.txt', '751.txt', '30198.txt', '6794.txt', '34665.txt', '35553.txt', '6025.txt', '51770.txt', '6796.txt', '24312.txt', '26505.txt', '20404.txt', '24662.txt', '22415.txt', '35394.txt', '18574.txt', '52455.txt', '15078.txt', '29795.txt', '66040.txt', '15079.txt', '30038.txt', '16821.txt', '33486.txt', '8221.txt', '6797.txt', '42051.txt', '53148.txt', '21509.txt', '16616.txt', '1567.txt', '20373.txt', '27971.txt', '49716.txt', '27781.txt', '6619.txt', '37752.txt', '151.txt', '28666.txt', '29587.txt', '13974.txt', '20158.txt', '10931.txt', '51992.txt', '594.txt', '16615.txt', '16601.txt', '12329.txt', '3549.txt', '26675.txt', '8187.txt', '25631.txt', '17898.txt', '30599.txt', '28665.txt', '37751.txt', '39783.txt', '48797.txt', '31283.txt', '43615.txt', '12843.txt', '15862.txt', '11351.txt', '55507.txt', '6034.txt', '12664.txt', '14528.txt', '42034.txt', '24825.txt', '37859.txt', '10216.txt', '41059.txt', '28986.txt', '37087.txt', '28825.txt', '63373.txt', '20504.txt', '10835.txt', '323.txt', '30501.txt', '27069.txt', '6682.txt', '25643.txt', '34982.txt', '487.txt', '22474.txt', '28824.txt', '28830.txt', '28818.txt', '27336.txt', '50155.txt', '54870.txt', '51513.txt', '13052.txt', '28985.txt', '28826.txt', '15219.txt', '6332.txt', '16506.txt', '35452.txt', '6859.txt', '309.txt', '8861.txt', '42181.txt', '49942.txt', '27731.txt', '17619.txt', '32499.txt', '26611.txt', '679.txt', '62709.txt', '37091.txt', '37085.txt', '37132.txt', '28774.txt', '9606.txt', '1919.txt', '23392.txt', '48533.txt', '9372.txt', '1060.txt', '35279.txt', '36980.txt', '15368.txt', '7149.txt', '12413.txt', '18658.txt', '30842.txt', '27494.txt', '36214.txt', '22261.txt', '71605.txt', '30659.txt', '27457.txt', '42422.txt', '43066.txt', '23037.txt', '11091.txt', '5428.txt', '45173.txt', '11522.txt', '1855.txt', '15963.txt', '27735.txt', '28375.txt', '17393.txt', '1459.txt', '15209.txt', '18739.txt', '28771.txt', '71162.txt', '13081.txt', '39132.txt', '1505.txt', '44898.txt', '44640.txt', '32503.txt', '29123.txt', '6929.txt', '17754.txt', '3138.txt', '4696.txt', '6081.txt', '36773.txt', '11496.txt', '4331.txt', '22289.txt', '18673.txt', '30672.txt', '21025.txt', '6452.txt', '10367.txt', '18713.txt', '29531.txt', '33555.txt', '27534.txt', '8127.txt', '35497.txt', '30504.txt', '29732.txt', '24216.txt', '16515.txt', '14869.txt', '40237.txt', '28835.txt', '28772.txt', '27333.txt', '30101.txt', '39131.txt', '23196.txt', '56521.txt', '4697.txt', '33193.txt', '23394.txt', '4654.txt']\n"
     ]
    }
   ],
   "source": [
    "text_files = list_text_files(in_filepath)\n",
    "print(text_files)"
   ]
  },
  {
   "cell_type": "code",
   "execution_count": 34,
   "id": "74f820d8",
   "metadata": {},
   "outputs": [],
   "source": [
    "# Function to extract stanzas from a text file\n",
    "def extract_stanzas(file_path):\n",
    "    with open(file_path, 'r', encoding='utf-8') as file:\n",
    "        poem_title = None\n",
    "        stanzas = []\n",
    "        current_stanza = \"\"\n",
    "        start_reading = False\n",
    "\n",
    "        for line in file:\n",
    "            line = line.strip()\n",
    "\n",
    "            # Check for start marker\n",
    "            if line.startswith(\"*** START OF\"):\n",
    "                start_reading = True\n",
    "                continue  # Skip this line\n",
    "\n",
    "            # Check for poem title\n",
    "            if start_reading and line.isupper():\n",
    "                poem_title = line\n",
    "\n",
    "            # Check for end marker\n",
    "            if line.startswith(\"*** END OF\"):\n",
    "                break\n",
    "\n",
    "            # Check for stanza separator (empty line)\n",
    "            elif start_reading and not line:\n",
    "                if current_stanza:\n",
    "                    stanzas.append((poem_title, current_stanza))\n",
    "                    current_stanza = \"\"\n",
    "            \n",
    "            # Otherwise, add line to current stanza\n",
    "            elif start_reading:\n",
    "                current_stanza += line + \" \"\n",
    "\n",
    "        # Add the last stanza if any\n",
    "        if current_stanza:\n",
    "            stanzas.append((poem_title, current_stanza))\n",
    "\n",
    "    return stanzas"
   ]
  },
  {
   "cell_type": "code",
   "execution_count": 35,
   "id": "e0627d24",
   "metadata": {},
   "outputs": [],
   "source": [
    "for filename in text_files: \n",
    "    stanzas = extract_stanzas(in_filepath+filename)\n",
    "    \n",
    "    df = pd.DataFrame(stanzas, columns=[\"Poem Title\", \"Stanza\"])\n",
    "    df.to_csv(f\"{out_filepath}{filename}_split_by_stanza.csv\")"
   ]
  },
  {
   "cell_type": "code",
   "execution_count": 25,
   "id": "e49aaad3",
   "metadata": {},
   "outputs": [
    {
     "name": "stdout",
     "output_type": "stream",
     "text": [
      "                 Poem Title                                             Stanza\n",
      "0                      None  Produced by Ted Garvin, Sjaani and PG Distribu...\n",
      "1        THE VIGIL OF VENUS                                THE VIGIL OF VENUS \n",
      "2        AND OTHER POEMS BY                                AND OTHER POEMS BY \n",
      "3                       \"Q\"                                               \"Q\" \n",
      "4                       \"Q\"                                              1912 \n",
      "..                      ...                                                ...\n",
      "491  IN HER DAUGHTER'S EYES  A thousand songs I might have made Of You, and...\n",
      "492  IN HER DAUGHTER'S EYES  Within the greenwood girl and boy Had loiter'd...\n",
      "493  IN HER DAUGHTER'S EYES  And I'd have made them strong, so strong Outla...\n",
      "494  IN HER DAUGHTER'S EYES  A thousand songs I might have made... But you ...\n",
      "495  IN HER DAUGHTER'S EYES  End of Project Gutenberg's The Vigil of Venus ...\n",
      "\n",
      "[496 rows x 2 columns]\n"
     ]
    }
   ],
   "source": []
  },
  {
   "cell_type": "code",
   "execution_count": 26,
   "id": "41e9280c",
   "metadata": {},
   "outputs": [],
   "source": []
  },
  {
   "cell_type": "code",
   "execution_count": null,
   "id": "29f2cf44",
   "metadata": {},
   "outputs": [],
   "source": []
  }
 ],
 "metadata": {
  "kernelspec": {
   "display_name": "Python 3 (ipykernel)",
   "language": "python",
   "name": "python3"
  },
  "language_info": {
   "codemirror_mode": {
    "name": "ipython",
    "version": 3
   },
   "file_extension": ".py",
   "mimetype": "text/x-python",
   "name": "python",
   "nbconvert_exporter": "python",
   "pygments_lexer": "ipython3",
   "version": "3.11.5"
  }
 },
 "nbformat": 4,
 "nbformat_minor": 5
}
