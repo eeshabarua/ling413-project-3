{
 "cells": [
  {
   "cell_type": "code",
   "execution_count": 29,
   "id": "d4baf483",
   "metadata": {},
   "outputs": [],
   "source": [
    "import re\n",
    "import pandas as pd\n",
    "import os"
   ]
  },
  {
   "cell_type": "code",
   "execution_count": 30,
   "id": "2211407e",
   "metadata": {},
   "outputs": [],
   "source": [
    "genre_name = \"'American poetry -- 20th century'\"\n",
    "\n",
    "in_filepath = f\"raw_text/{genre_name}/\"\n",
    "out_filepath = f'poems/{genre_name}/'\n",
    "os.makedirs(f'{out_filepath}/{genre_name}', exist_ok=True)\n",
    "\n",
    "delimiter = \"line\""
   ]
  },
  {
   "cell_type": "code",
   "execution_count": 31,
   "id": "160ac7ff",
   "metadata": {},
   "outputs": [],
   "source": [
    "def list_text_files(directory):\n",
    "    text_files = []\n",
    "    for file in os.listdir(directory):\n",
    "        if file.endswith(\".txt\"):\n",
    "            text_files.append(file)\n",
    "    return text_files"
   ]
  },
  {
   "cell_type": "code",
   "execution_count": 32,
   "id": "8632dc86",
   "metadata": {},
   "outputs": [
    {
     "name": "stdout",
     "output_type": "stream",
     "text": [
      "['63554.txt', '40560.txt', '63622.txt', '60114.txt', '64548.txt', '53333.txt', '62503.txt', '69866.txt', '63542.txt', '37852.txt', '68573.txt', '25880.txt', '58664.txt', '63790.txt', '67509.txt', '71425.txt', '64148.txt', '65807.txt', '3021.txt', '62614.txt', '62833.txt', '68113.txt', '56764.txt', '36051.txt', '58207.txt', '53385.txt', '12093.txt', '71508.txt', '65232.txt', '60606.txt', '36508.txt', '58992.txt', '67384.txt', '26333.txt', '3026.txt', '4549.txt', '58611.txt', '21890.txt', '4399.txt', '33674.txt', '58741.txt', '69761.txt', '62146.txt', '52456.txt', '60427.txt', '2487.txt', '66080.txt', '64318.txt', '63265.txt', '2294.txt', '59474.txt', '1166.txt', '63514.txt', '63500.txt', '51997.txt', '63262.txt', '51415.txt', '65571.txt', '4556.txt', '28706.txt', '69969.txt', '53149.txt', '66133.txt', '59894.txt', '69980.txt', '60146.txt', '72033.txt', '59739.txt', '41162.txt', '36831.txt', '63399.txt', '68353.txt', '59824.txt', '59603.txt', '37469.txt', '62456.txt', '59167.txt', '53099.txt', '4530.txt', '64783.txt', '68156.txt', '65062.txt', '58080.txt', '60904.txt', '48044.txt', '59203.txt', '30276.txt', '60044.txt', '60252.txt', '55564.txt']\n"
     ]
    }
   ],
   "source": [
    "text_files = list_text_files(in_filepath)\n",
    "print(text_files)"
   ]
  },
  {
   "cell_type": "code",
   "execution_count": 33,
   "id": "74f820d8",
   "metadata": {},
   "outputs": [],
   "source": [
    "# # Function to extract stanzas from a text file\n",
    "# def extract_stanzas(file_path):\n",
    "#     with open(file_path, 'r', encoding='utf-8') as file:\n",
    "#         poem_title = None\n",
    "#         stanzas = []\n",
    "#         current_stanza = \"\"\n",
    "#         start_reading = False\n",
    "\n",
    "#         for line in file:\n",
    "#             line = line.strip()\n",
    "\n",
    "#             # Check for start marker\n",
    "#             if line.startswith(\"*** START OF\"):\n",
    "#                 start_reading = True\n",
    "#                 continue  # Skip this line\n",
    "\n",
    "#             # Check for poem title\n",
    "#             if start_reading and line.isupper():\n",
    "#                 poem_title = line\n",
    "\n",
    "#             # Check for end marker\n",
    "#             if line.startswith(\"*** END OF\"):\n",
    "#                 break\n",
    "\n",
    "#             # Check for stanza separator (empty line)\n",
    "#             elif start_reading and not line:\n",
    "#                 if current_stanza:\n",
    "#                     stanzas.append((poem_title, current_stanza))\n",
    "#                     current_stanza = \"\"\n",
    "            \n",
    "#             # Otherwise, add line to current stanza\n",
    "#             elif start_reading:\n",
    "#                 current_stanza += line + \" \"\n",
    "\n",
    "#         # Add the last stanza if any\n",
    "#         if current_stanza:\n",
    "#             stanzas.append((poem_title, current_stanza))\n",
    "\n",
    "#     return stanzas"
   ]
  },
  {
   "cell_type": "code",
   "execution_count": 34,
   "id": "a2c0f0b3",
   "metadata": {},
   "outputs": [],
   "source": [
    "import pandas as pd\n",
    "\n",
    "def extract_lines(file_path):\n",
    "    with open(file_path, 'r', encoding='utf-8') as file:\n",
    "        poem_title = None\n",
    "        lines = []\n",
    "        start_reading = False\n",
    "\n",
    "        for line in file:\n",
    "            line = line.strip()\n",
    "\n",
    "            # Check for start marker\n",
    "            if line.startswith(\"*** START OF\"):\n",
    "                start_reading = True\n",
    "                continue  # Skip this line\n",
    "\n",
    "            # Check for poem title\n",
    "            if start_reading and line.isupper():\n",
    "                poem_title = line\n",
    "\n",
    "            # Check for end marker\n",
    "            if line.startswith(\"*** END OF\"):\n",
    "                break\n",
    "\n",
    "            # Add line to list\n",
    "            if start_reading:\n",
    "                lines.append((poem_title, line))\n",
    "    # Create DataFrame from the list of lines\n",
    "    df = pd.DataFrame(lines, columns=['Poem Title', delimiter])\n",
    "    return df"
   ]
  },
  {
   "cell_type": "code",
   "execution_count": 35,
   "id": "62cc2649",
   "metadata": {},
   "outputs": [],
   "source": [
    "# For stanzas (continued)\n",
    "for filename in text_files: \n",
    "    if delimiter == \"line\": \n",
    "        lines = extract_lines(in_filepath+filename)\n",
    "    if delimiter == \"stanza\":\n",
    "        lines = extract_stanzas(in_filepath+filename)\n",
    "    df = pd.DataFrame(lines, columns=[\"Poem Title\", delimiter])\n",
    "    df.to_csv(f\"{out_filepath}{filename}_split_by_{delimiter}.csv\")\n",
    "    \n",
    "    "
   ]
  },
  {
   "cell_type": "code",
   "execution_count": null,
   "id": "e49aaad3",
   "metadata": {},
   "outputs": [],
   "source": []
  },
  {
   "cell_type": "code",
   "execution_count": null,
   "id": "41e9280c",
   "metadata": {},
   "outputs": [],
   "source": []
  },
  {
   "cell_type": "code",
   "execution_count": null,
   "id": "827bff38",
   "metadata": {},
   "outputs": [],
   "source": []
  }
 ],
 "metadata": {
  "kernelspec": {
   "display_name": "Python 3 (ipykernel)",
   "language": "python",
   "name": "python3"
  },
  "language_info": {
   "codemirror_mode": {
    "name": "ipython",
    "version": 3
   },
   "file_extension": ".py",
   "mimetype": "text/x-python",
   "name": "python",
   "nbconvert_exporter": "python",
   "pygments_lexer": "ipython3",
   "version": "3.11.5"
  }
 },
 "nbformat": 4,
 "nbformat_minor": 5
}
