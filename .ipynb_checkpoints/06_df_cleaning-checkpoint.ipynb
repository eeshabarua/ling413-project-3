{
 "cells": [
  {
   "cell_type": "code",
   "execution_count": 1,
   "id": "2771674d",
   "metadata": {},
   "outputs": [],
   "source": [
    "import pandas as pd\n",
    "import os"
   ]
  },
  {
   "cell_type": "code",
   "execution_count": null,
   "id": "f28ac4b9",
   "metadata": {},
   "outputs": [],
   "source": [
    "genre_name = \"'Poetry'\"\n",
    "\n",
    "in_filepath = f\"raw_text/{genre_name}/\"\n",
    "out_filepath = f'poems/{genre_name}/'"
   ]
  },
  {
   "cell_type": "code",
   "execution_count": null,
   "id": "8275ae47",
   "metadata": {},
   "outputs": [],
   "source": [
    "def list_csv_files(directory):\n",
    "    text_files = []\n",
    "    for file in os.listdir(directory):\n",
    "        if file.endswith(\".csv\"):\n",
    "            text_files.append(file)\n",
    "    return text_files"
   ]
  }
 ],
 "metadata": {
  "kernelspec": {
   "display_name": "Python 3 (ipykernel)",
   "language": "python",
   "name": "python3"
  },
  "language_info": {
   "codemirror_mode": {
    "name": "ipython",
    "version": 3
   },
   "file_extension": ".py",
   "mimetype": "text/x-python",
   "name": "python",
   "nbconvert_exporter": "python",
   "pygments_lexer": "ipython3",
   "version": "3.11.5"
  }
 },
 "nbformat": 4,
 "nbformat_minor": 5
}
